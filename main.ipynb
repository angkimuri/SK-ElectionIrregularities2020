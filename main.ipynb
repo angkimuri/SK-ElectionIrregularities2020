{
 "cells": [
  {
   "cell_type": "markdown",
   "metadata": {},
   "source": []
  },
  {
   "cell_type": "code",
   "execution_count": 1,
   "metadata": {},
   "outputs": [],
   "source": [
    "import pandas as pd\n",
    "import matplotlib.pyplot as plt\n",
    "from statistics import median\n",
    "\n",
    "Districts = ['Jongno2020','Jongno2016',\n",
    "'JungguSeongdongguA2020','JungguSeongdongguA2016',\n",
    "'JungguSeongdongguB2020','JungguSeongdongguB2016',\n",
    "'Yongsan2020','Yongsan2016',\n",
    "'GwangjinA2020','GwangjinA2016',\n",
    "'GwangjinB2020','GwangjinB2016',\n",
    "'SongpaA2020','SongpaA2016',\n",
    "'SongpaB2020','SongpaB2016',\n",
    "'SongpaC2020','SongpaC2016',\n",
    "'GoyangsiA2020','GoyangsiA2016',\n",
    "'YangcheonguA2020','YangcheonguA2016',\n",
    "'YangcheonguB2020','YangcheonguB2016',\n",
    "'Yeojusi2020','Yeojusi2016',\n",
    "'YonginsiC2020','YonginsiC2016',\n",
    "'YonginsiD2020','YonginsiD2016',\n",
    "'GwanakA2020','GwanakB2016']"
   ]
  },
  {
   "cell_type": "code",
   "execution_count": 2,
   "metadata": {},
   "outputs": [],
   "source": [
    "data = {}\n",
    "ind = {}\n",
    "coefs = {}\n",
    "Zvals = {}\n",
    "frauds = {}\n",
    "DPKwins = []\n",
    "Otherwins = []\n",
    "\n",
    "for dname in Districts:   \n",
    "    data[dname]= pd.read_csv('Data/'+dname+'.csv')\n",
    "    ind[dname] = data[dname]['ind'].tolist()\n",
    "    coefs[dname] = pd.read_csv('Outputs/'+dname+'-coefs.csv')\n",
    "    del coefs[dname]['Unnamed: 0']\n",
    "    Zvals[dname] = pd.read_csv('Outputs/'+dname+'-Zvalues.csv')\n",
    "    del Zvals[dname]['Unnamed: 0']\n",
    "    Zvals[dname]['ind'] = ind[dname]\n",
    "    frauds[dname] = pd.read_csv('Outputs/'+dname+'-frauds.csv')\n",
    "    \n",
    "    if data[dname]['winning'][0] == 'DPK':\n",
    "        DPKwins.append(dname)\n",
    "    elif data[dname]['winning'][0] != 'DPK':\n",
    "        Otherwins.append(dname)"
   ]
  },
  {
   "cell_type": "code",
   "execution_count": 3,
   "metadata": {},
   "outputs": [],
   "source": [
    "FraudFeat = {}\n",
    "\n",
    "for dname in Districts:    \n",
    "    NumZ2 = 0\n",
    "    PiZ2 = []\n",
    "    PreZ2 = 0\n",
    "\n",
    "    for i, rows in Zvals[dname].iterrows():\n",
    "        if rows['pi[Zi1]'] < rows['pi[Zi2]']:\n",
    "            NumZ2+=1\n",
    "            PiZ2.append(rows['pi[Zi2]'])\n",
    "            if rows['ind']==1:\n",
    "                PreZ2+=1\n",
    "\n",
    "    if NumZ2!=0:\n",
    "        PreZ2/=NumZ2\n",
    "    if PiZ2:\n",
    "        FraudFeat[dname] = (NumZ2, PreZ2*100, median(PiZ2), max(PiZ2))\n",
    "    else:\n",
    "        FraudFeat[dname] = (NumZ2, PreZ2*100, 0, 0)"
   ]
  },
  {
   "cell_type": "code",
   "execution_count": 4,
   "metadata": {},
   "outputs": [
    {
     "data": {
      "text/plain": [
       "{'Jongno2020': (13, 100.0, 60.163000000000004, 81.855),\n",
       " 'Jongno2016': (0, 0, 0, 0),\n",
       " 'JungguSeongdongguA2020': (11, 100.0, 82.79299999999999, 99.491),\n",
       " 'JungguSeongdongguA2016': (0, 0, 0, 0),\n",
       " 'JungguSeongdongguB2020': (14, 100.0, 91.3745, 100.0),\n",
       " 'JungguSeongdongguB2016': (0, 0, 0, 0),\n",
       " 'Yongsan2020': (1, 0.0, 79.944, 79.944),\n",
       " 'Yongsan2016': (0, 0, 0, 0),\n",
       " 'GwangjinA2020': (8, 100.0, 83.4205, 92.34299999999999),\n",
       " 'GwangjinA2016': (0, 0, 0, 0),\n",
       " 'GwangjinB2020': (5, 100.0, 60.097, 81.243),\n",
       " 'GwangjinB2016': (1, 100.0, 52.413999999999994, 52.413999999999994),\n",
       " 'SongpaA2020': (0, 0, 0, 0),\n",
       " 'SongpaA2016': (0, 0, 0, 0),\n",
       " 'SongpaB2020': (3, 33.33333333333333, 70.0, 76.46600000000001),\n",
       " 'SongpaB2016': (0, 0, 0, 0),\n",
       " 'SongpaC2020': (11, 100.0, 73.179, 86.037),\n",
       " 'SongpaC2016': (0, 0, 0, 0),\n",
       " 'GoyangsiA2020': (1, 0.0, 57.985, 57.985),\n",
       " 'GoyangsiA2016': (0, 0, 0, 0),\n",
       " 'YangcheonguA2020': (4, 75.0, 65.0, 73.38),\n",
       " 'YangcheonguA2016': (0, 0, 0, 0),\n",
       " 'YangcheonguB2020': (8, 100.0, 60.0, 97.125),\n",
       " 'YangcheonguB2016': (1, 100.0, 51.56, 51.56),\n",
       " 'Yeojusi2020': (0, 0, 0, 0),\n",
       " 'Yeojusi2016': (0, 0, 0, 0),\n",
       " 'YonginsiC2020': (3, 100.0, 62.29, 63.345),\n",
       " 'YonginsiC2016': (0, 0, 0, 0),\n",
       " 'YonginsiD2020': (2, 100.0, 82.9925, 96.685),\n",
       " 'YonginsiD2016': (0, 0, 0, 0)}"
      ]
     },
     "execution_count": 4,
     "metadata": {},
     "output_type": "execute_result"
    }
   ],
   "source": [
    "FraudFeat"
   ]
  },
  {
   "cell_type": "code",
   "execution_count": 5,
   "metadata": {},
   "outputs": [
    {
     "name": "stdout",
     "output_type": "stream",
     "text": [
      "Jongno2016: 0, 0.0%, 0.0%, 0.0%\n",
      "JungguSeongdongguA2016: 0, 0.0%, 0.0%, 0.0%\n",
      "Yongsan2016: 0, 0.0%, 0.0%, 0.0%\n",
      "GwangjinA2016: 0, 0.0%, 0.0%, 0.0%\n",
      "GwangjinB2016: 1, 100.0%, 52.4%, 52.4%\n",
      "SongpaB2016: 0, 0.0%, 0.0%, 0.0%\n",
      "SongpaC2016: 0, 0.0%, 0.0%, 0.0%\n",
      "YangcheonguA2016: 0, 0.0%, 0.0%, 0.0%\n",
      "YonginsiD2016: 0, 0.0%, 0.0%, 0.0%\n"
     ]
    }
   ],
   "source": [
    "for dname in DPKwins:\n",
    "    if dname.endswith('2016'):\n",
    "        print(dname+':', str(FraudFeat[dname][0])+\n",
    "              ', %.1f%%' % FraudFeat[dname][1]+', %.1f%%' % FraudFeat[dname][2]+', %.1f%%' % FraudFeat[dname][3])"
   ]
  },
  {
   "cell_type": "code",
   "execution_count": 6,
   "metadata": {},
   "outputs": [
    {
     "name": "stdout",
     "output_type": "stream",
     "text": [
      "Jongno2020: 13, 100.0%, 60.2%, 81.9%\n",
      "JungguSeongdongguA2020: 11, 100.0%, 82.8%, 99.5%\n",
      "JungguSeongdongguB2020: 14, 100.0%, 91.4%, 100.0%\n",
      "GwangjinA2020: 8, 100.0%, 83.4%, 92.3%\n",
      "GwangjinB2020: 5, 100.0%, 60.1%, 81.2%\n",
      "SongpaC2020: 11, 100.0%, 73.2%, 86.0%\n",
      "YangcheonguA2020: 4, 75.0%, 65.0%, 73.4%\n",
      "YangcheonguB2020: 8, 100.0%, 60.0%, 97.1%\n",
      "YonginsiC2020: 3, 100.0%, 62.3%, 63.3%\n",
      "YonginsiD2020: 2, 100.0%, 83.0%, 96.7%\n"
     ]
    }
   ],
   "source": [
    "for dname in DPKwins:\n",
    "    if dname.endswith('2020'):\n",
    "        print(dname+':', str(FraudFeat[dname][0])+\n",
    "              ', %.1f%%' % FraudFeat[dname][1]+', %.1f%%' % FraudFeat[dname][2]+', %.1f%%' % FraudFeat[dname][3])"
   ]
  },
  {
   "cell_type": "code",
   "execution_count": 7,
   "metadata": {},
   "outputs": [
    {
     "name": "stdout",
     "output_type": "stream",
     "text": [
      "JungguSeongdongguB2016: 0, 0.0%, 0.0%, 0.0%\n",
      "SongpaA2016: 0, 0.0%, 0.0%, 0.0%\n",
      "GoyangsiA2016: 0, 0.0%, 0.0%, 0.0%\n",
      "YangcheonguB2016: 1, 100.0%, 51.6%, 51.6%\n",
      "Yeojusi2016: 0, 0.0%, 0.0%, 0.0%\n",
      "YonginsiC2016: 0, 0.0%, 0.0%, 0.0%\n"
     ]
    }
   ],
   "source": [
    "for dname in Otherwins:\n",
    "    if dname.endswith('2016'):\n",
    "        print(dname+':', str(FraudFeat[dname][0])+\n",
    "              ', %.1f%%' % FraudFeat[dname][1]+', %.1f%%' % FraudFeat[dname][2]+', %.1f%%' % FraudFeat[dname][3])"
   ]
  },
  {
   "cell_type": "code",
   "execution_count": 8,
   "metadata": {},
   "outputs": [
    {
     "name": "stdout",
     "output_type": "stream",
     "text": [
      "Yongsan2020: 1, 0.0%, 79.9%, 79.9%\n",
      "SongpaA2020: 0, 0.0%, 0.0%, 0.0%\n",
      "SongpaB2020: 3, 33.3%, 70.0%, 76.5%\n",
      "GoyangsiA2020: 1, 0.0%, 58.0%, 58.0%\n",
      "Yeojusi2020: 0, 0.0%, 0.0%, 0.0%\n"
     ]
    }
   ],
   "source": [
    "for dname in Otherwins:\n",
    "    if dname.endswith('2020'):\n",
    "        print(dname+':', str(FraudFeat[dname][0])+\n",
    "              ', %.1f%%' % FraudFeat[dname][1]+', %.1f%%' % FraudFeat[dname][2]+', %.1f%%' % FraudFeat[dname][3])"
   ]
  },
  {
   "cell_type": "code",
   "execution_count": null,
   "metadata": {},
   "outputs": [],
   "source": []
  }
 ],
 "metadata": {
  "kernelspec": {
   "display_name": "Python 3",
   "language": "python",
   "name": "python3"
  },
  "language_info": {
   "codemirror_mode": {
    "name": "ipython",
    "version": 3
   },
   "file_extension": ".py",
   "mimetype": "text/x-python",
   "name": "python",
   "nbconvert_exporter": "python",
   "pygments_lexer": "ipython3",
   "version": "3.7.1"
  }
 },
 "nbformat": 4,
 "nbformat_minor": 2
}
